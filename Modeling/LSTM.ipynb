{
  "nbformat": 4,
  "nbformat_minor": 0,
  "metadata": {
    "colab": {
      "name": "capstone_lstm.ipynb",
      "provenance": [],
      "collapsed_sections": []
    },
    "kernelspec": {
      "name": "python3",
      "display_name": "Python 3"
    }
  },
  "cells": [
    {
      "cell_type": "code",
      "metadata": {
        "id": "NZw7PHrw9gLn",
        "colab_type": "code",
        "colab": {}
      },
      "source": [
        "from keras.preprocessing.text import Tokenizer\n",
        "from keras.preprocessing.sequence import pad_sequences\n",
        "#from keras.layers import Embedding, LSTM, SpatialDropout1D\n",
        "from sklearn.model_selection import train_test_split\n",
        "from keras.utils.np_utils import to_categorical\n",
        "from keras.callbacks import EarlyStopping\n",
        "from keras.layers import Dropout\n",
        "from tensorflow.keras.callbacks import EarlyStopping\n",
        "\n",
        "from tensorflow.python.keras.layers import Dense,Embedding, LSTM, SpatialDropout1D\n",
        "from tensorflow.python.keras import Sequential\n",
        "#from keras.optimizers import Adam"
      ],
      "execution_count": 0,
      "outputs": []
    },
    {
      "cell_type": "code",
      "metadata": {
        "id": "QpCgIBETDJZZ",
        "colab_type": "code",
        "outputId": "205d9f20-584a-4e8d-e88c-34819d94a579",
        "colab": {
          "base_uri": "https://localhost:8080/",
          "height": 71
        }
      },
      "source": [
        "import matplotlib.pyplot as plt\n",
        "import seaborn as sns"
      ],
      "execution_count": 0,
      "outputs": [
        {
          "output_type": "stream",
          "text": [
            "/usr/local/lib/python3.6/dist-packages/statsmodels/tools/_testing.py:19: FutureWarning: pandas.util.testing is deprecated. Use the functions in the public API at pandas.testing instead.\n",
            "  import pandas.util.testing as tm\n"
          ],
          "name": "stderr"
        }
      ]
    },
    {
      "cell_type": "code",
      "metadata": {
        "id": "FzZRNWCO9kdd",
        "colab_type": "code",
        "outputId": "caedf282-bcf7-4684-992c-2c1f4ed117df",
        "colab": {
          "base_uri": "https://localhost:8080/",
          "height": 123
        }
      },
      "source": [
        "from google.colab import drive\n",
        "drive.mount('/content/drive')"
      ],
      "execution_count": 0,
      "outputs": [
        {
          "output_type": "stream",
          "text": [
            "Go to this URL in a browser: https://accounts.google.com/o/oauth2/auth?client_id=947318989803-6bn6qk8qdgf4n4g3pfee6491hc0brc4i.apps.googleusercontent.com&redirect_uri=urn%3aietf%3awg%3aoauth%3a2.0%3aoob&response_type=code&scope=email%20https%3a%2f%2fwww.googleapis.com%2fauth%2fdocs.test%20https%3a%2f%2fwww.googleapis.com%2fauth%2fdrive%20https%3a%2f%2fwww.googleapis.com%2fauth%2fdrive.photos.readonly%20https%3a%2f%2fwww.googleapis.com%2fauth%2fpeopleapi.readonly\n",
            "\n",
            "Enter your authorization code:\n",
            "··········\n",
            "Mounted at /content/drive\n"
          ],
          "name": "stdout"
        }
      ]
    },
    {
      "cell_type": "code",
      "metadata": {
        "id": "aYwEu6tY-TuD",
        "colab_type": "code",
        "outputId": "e1ef13b9-af36-4587-c7dd-28c5a8da1dd3",
        "colab": {
          "base_uri": "https://localhost:8080/",
          "height": 69
        }
      },
      "source": [
        "import numpy as np \n",
        "import pandas as pd\n",
        "import re\n",
        "import nltk\n",
        "from nltk.corpus import stopwords\n",
        "from nltk import word_tokenize\n",
        "nltk.download('stopwords')"
      ],
      "execution_count": 0,
      "outputs": [
        {
          "output_type": "stream",
          "text": [
            "[nltk_data] Downloading package stopwords to /root/nltk_data...\n",
            "[nltk_data]   Unzipping corpora/stopwords.zip.\n"
          ],
          "name": "stdout"
        },
        {
          "output_type": "execute_result",
          "data": {
            "text/plain": [
              "True"
            ]
          },
          "metadata": {
            "tags": []
          },
          "execution_count": 16
        }
      ]
    },
    {
      "cell_type": "code",
      "metadata": {
        "id": "K8oJqB6q9wpY",
        "colab_type": "code",
        "colab": {}
      },
      "source": [
        "df = pd.read_csv('filter_20tag_ok.csv')"
      ],
      "execution_count": 0,
      "outputs": []
    },
    {
      "cell_type": "code",
      "metadata": {
        "id": "cVev1T0p-_Se",
        "colab_type": "code",
        "colab": {}
      },
      "source": [
        "REPLACE_BY_SPACE_RE = re.compile('[/(){}\\[\\]\\|@,;]')\n",
        "BAD_SYMBOLS_RE = re.compile('[^0-9a-z #+_]')\n",
        "STOPWORDS = set(stopwords.words('english'))\n",
        "\n",
        "def clean_text(text):\n",
        "    \"\"\"\n",
        "        text: a string\n",
        "        \n",
        "        return: modified initial string\n",
        "    \"\"\"\n",
        "   text = text.lower() # lowercase text\n",
        "   text = REPLACE_BY_SPACE_RE.sub(' ', text) # replace REPLACE_BY_SPACE_RE symbols by space in text. substitute the matched string in REPLACE_BY_SPACE_RE with space.\n",
        "   text = BAD_SYMBOLS_RE.sub('', text) # remove symbols which are in BAD_SYMBOLS_RE from text. substitute the matched string in BAD_SYMBOLS_RE with nothing. \n",
        "   text = text.replace('x', '')\n",
        "   text = re.sub(r'\\W+', '', text)\n",
        "    text = ' '.join(word for word in text.split() if word not in STOPWORDS) # remove stopwors from text\n",
        "    return text\n"
      ],
      "execution_count": 0,
      "outputs": []
    },
    {
      "cell_type": "code",
      "metadata": {
        "id": "kikJrIfmABVV",
        "colab_type": "code",
        "colab": {}
      },
      "source": [
        "df_new = df.dropna(subset=['Body'])"
      ],
      "execution_count": 0,
      "outputs": []
    },
    {
      "cell_type": "code",
      "metadata": {
        "id": "Kp3U9gzvNrjY",
        "colab_type": "code",
        "outputId": "8c7b0843-0b14-4a03-900e-b22c6983d173",
        "colab": {
          "base_uri": "https://localhost:8080/",
          "height": 173
        }
      },
      "source": [
        "df_new.Body_Length.describe()"
      ],
      "execution_count": 0,
      "outputs": [
        {
          "output_type": "execute_result",
          "data": {
            "text/plain": [
              "count     852.000000\n",
              "mean      466.354460\n",
              "std       453.561909\n",
              "min         4.000000\n",
              "25%       152.000000\n",
              "50%       303.000000\n",
              "75%       666.500000\n",
              "max      2841.000000\n",
              "Name: Body_Length, dtype: float64"
            ]
          },
          "metadata": {
            "tags": []
          },
          "execution_count": 161
        }
      ]
    },
    {
      "cell_type": "code",
      "metadata": {
        "id": "-G-kCu2V-uV4",
        "colab_type": "code",
        "outputId": "0d350770-3b12-4b7e-d311-34cb39c709d4",
        "colab": {
          "base_uri": "https://localhost:8080/",
          "height": 51
        }
      },
      "source": [
        "# The maximum number of words to be used. (most frequent)\n",
        "MAX_NB_WORDS = 5000\n",
        "# Max number of words in each complaint.\n",
        "MAX_SEQUENCE_LENGTH = 100\n",
        "# This is fixed.\n",
        "EMBEDDING_DIM = 100\n",
        "\n",
        "tokenizer = Tokenizer(num_words=MAX_NB_WORDS, filters='!\"#$%&()*+,-./:;<=>?@[\\]^_`{|}~')\n",
        "tokenizer.fit_on_texts(df_new['Body'].values)\n",
        "word_index = tokenizer.word_index\n",
        "print('Found %s unique tokens.' % len(word_index))"
      ],
      "execution_count": 0,
      "outputs": [
        {
          "output_type": "stream",
          "text": [
            "ERROR! Session/line number was not unique in database. History logging moved to new session 60\n",
            "Found 12870 unique tokens.\n"
          ],
          "name": "stdout"
        }
      ]
    },
    {
      "cell_type": "code",
      "metadata": {
        "id": "aerqNNBL-WCZ",
        "colab_type": "code",
        "outputId": "aa25a312-fb23-4bf5-970d-55e2e4910bda",
        "colab": {
          "base_uri": "https://localhost:8080/",
          "height": 34
        }
      },
      "source": [
        "X = tokenizer.texts_to_sequences(df_new['Body'].values)\n",
        "X = pad_sequences(X, maxlen=MAX_SEQUENCE_LENGTH)\n",
        "print('Shape of data tensor:', X.shape)"
      ],
      "execution_count": 0,
      "outputs": [
        {
          "output_type": "stream",
          "text": [
            "Shape of data tensor: (852, 100)\n"
          ],
          "name": "stdout"
        }
      ]
    },
    {
      "cell_type": "code",
      "metadata": {
        "id": "wGx3c9yw-cwl",
        "colab_type": "code",
        "outputId": "fdf7d9c8-ba33-4bae-a253-0d504f194880",
        "colab": {
          "base_uri": "https://localhost:8080/",
          "height": 34
        }
      },
      "source": [
        "Y = pd.get_dummies(df_new['y']).values\n",
        "print('Shape of label tensor:', Y.shape)"
      ],
      "execution_count": 0,
      "outputs": [
        {
          "output_type": "stream",
          "text": [
            "Shape of label tensor: (852, 19)\n"
          ],
          "name": "stdout"
        }
      ]
    },
    {
      "cell_type": "code",
      "metadata": {
        "id": "ekEchccxA9FN",
        "colab_type": "code",
        "outputId": "a06457a1-f91c-4bae-a63f-6e40bee3fb8a",
        "colab": {
          "base_uri": "https://localhost:8080/",
          "height": 51
        }
      },
      "source": [
        "X_train, X_test, Y_train, Y_test = train_test_split(X,Y, test_size = 0.10, random_state = 42)\n",
        "print(X_train.shape,Y_train.shape)\n",
        "print(X_test.shape,Y_test.shape)"
      ],
      "execution_count": 0,
      "outputs": [
        {
          "output_type": "stream",
          "text": [
            "(766, 100) (766, 19)\n",
            "(86, 100) (86, 19)\n"
          ],
          "name": "stdout"
        }
      ]
    },
    {
      "cell_type": "code",
      "metadata": {
        "id": "8F_sWNXxBInc",
        "colab_type": "code",
        "outputId": "ea1d6eef-11ec-4360-883f-591b20369bd0",
        "colab": {
          "base_uri": "https://localhost:8080/",
          "height": 311
        }
      },
      "source": [
        "model = Sequential()\n",
        "model.add(Embedding(MAX_NB_WORDS, EMBEDDING_DIM, input_length=X.shape[1]))\n",
        "model.add(SpatialDropout1D(0.2))\n",
        "model.add(LSTM(64, dropout=0.3, recurrent_dropout=0.2))\n",
        "\n",
        "model.add(Dense(19, activation='softmax'))\n",
        "#optimiser = tf.train.AdamOptimizer(.0001)\n",
        "model.compile(loss='categorical_crossentropy', optimizer='adam', metrics=['accuracy'])\n",
        "print(model.summary())"
      ],
      "execution_count": 0,
      "outputs": [
        {
          "output_type": "stream",
          "text": [
            "Model: \"sequential_23\"\n",
            "_________________________________________________________________\n",
            "Layer (type)                 Output Shape              Param #   \n",
            "=================================================================\n",
            "embedding_22 (Embedding)     (None, 100, 100)          500000    \n",
            "_________________________________________________________________\n",
            "spatial_dropout1d_22 (Spatia (None, 100, 100)          0         \n",
            "_________________________________________________________________\n",
            "lstm_22 (LSTM)               (None, 64)                42240     \n",
            "_________________________________________________________________\n",
            "dense_22 (Dense)             (None, 19)                1235      \n",
            "=================================================================\n",
            "Total params: 543,475\n",
            "Trainable params: 543,475\n",
            "Non-trainable params: 0\n",
            "_________________________________________________________________\n",
            "None\n"
          ],
          "name": "stdout"
        }
      ]
    },
    {
      "cell_type": "code",
      "metadata": {
        "id": "efyt0kOdCrv1",
        "colab_type": "code",
        "outputId": "d834fab3-34fd-4e10-96df-4f05be93b493",
        "colab": {
          "base_uri": "https://localhost:8080/",
          "height": 34
        }
      },
      "source": [
        "X_train.shape"
      ],
      "execution_count": 0,
      "outputs": [
        {
          "output_type": "execute_result",
          "data": {
            "text/plain": [
              "(766, 100)"
            ]
          },
          "metadata": {
            "tags": []
          },
          "execution_count": 183
        }
      ]
    },
    {
      "cell_type": "code",
      "metadata": {
        "id": "Pw_wRtqNCtcw",
        "colab_type": "code",
        "outputId": "01b89740-c4cf-4158-a569-dad4e3a5b9d6",
        "colab": {
          "base_uri": "https://localhost:8080/",
          "height": 34
        }
      },
      "source": [
        "Y_train.shape"
      ],
      "execution_count": 0,
      "outputs": [
        {
          "output_type": "execute_result",
          "data": {
            "text/plain": [
              "(766, 19)"
            ]
          },
          "metadata": {
            "tags": []
          },
          "execution_count": 184
        }
      ]
    },
    {
      "cell_type": "code",
      "metadata": {
        "id": "dScqwPpQBLc2",
        "colab_type": "code",
        "outputId": "12ecf8f2-aa1f-4cd1-c72a-dc02faa5d1da",
        "colab": {
          "base_uri": "https://localhost:8080/",
          "height": 557
        }
      },
      "source": [
        "epochs = 15\n",
        "batch_size = 64\n",
        "\n",
        "history = model.fit(X_train, Y_train, epochs=epochs,\n",
        "                    batch_size=batch_size,validation_split=0.1)\n",
        "                    #callbacks=[EarlyStopping(monitor='val_loss', patience=3, min_delta=0.0001)]"
      ],
      "execution_count": 0,
      "outputs": [
        {
          "output_type": "stream",
          "text": [
            "Epoch 1/15\n",
            "11/11 [==============================] - 2s 205ms/step - loss: 2.9189 - accuracy: 0.2293 - val_loss: 2.8658 - val_accuracy: 0.3247\n",
            "Epoch 2/15\n",
            "11/11 [==============================] - 2s 185ms/step - loss: 2.7557 - accuracy: 0.2293 - val_loss: 2.6720 - val_accuracy: 0.2208\n",
            "Epoch 3/15\n",
            "11/11 [==============================] - 2s 187ms/step - loss: 2.5417 - accuracy: 0.2554 - val_loss: 2.3559 - val_accuracy: 0.2987\n",
            "Epoch 4/15\n",
            "11/11 [==============================] - 2s 184ms/step - loss: 2.2447 - accuracy: 0.3498 - val_loss: 2.1833 - val_accuracy: 0.4805\n",
            "Epoch 5/15\n",
            "11/11 [==============================] - 2s 185ms/step - loss: 2.0400 - accuracy: 0.4296 - val_loss: 2.0384 - val_accuracy: 0.4286\n",
            "Epoch 6/15\n",
            "11/11 [==============================] - 2s 185ms/step - loss: 1.8998 - accuracy: 0.4601 - val_loss: 1.9011 - val_accuracy: 0.5065\n",
            "Epoch 7/15\n",
            "11/11 [==============================] - 2s 189ms/step - loss: 1.7452 - accuracy: 0.5094 - val_loss: 1.7605 - val_accuracy: 0.4935\n",
            "Epoch 8/15\n",
            "11/11 [==============================] - 2s 188ms/step - loss: 1.6138 - accuracy: 0.5588 - val_loss: 1.6414 - val_accuracy: 0.5455\n",
            "Epoch 9/15\n",
            "11/11 [==============================] - 2s 184ms/step - loss: 1.4978 - accuracy: 0.5733 - val_loss: 1.6451 - val_accuracy: 0.5195\n",
            "Epoch 10/15\n",
            "11/11 [==============================] - 2s 185ms/step - loss: 1.4092 - accuracy: 0.5864 - val_loss: 1.6604 - val_accuracy: 0.5195\n",
            "Epoch 11/15\n",
            "11/11 [==============================] - 2s 187ms/step - loss: 1.3436 - accuracy: 0.6023 - val_loss: 1.6067 - val_accuracy: 0.5195\n",
            "Epoch 12/15\n",
            "11/11 [==============================] - 2s 193ms/step - loss: 1.3180 - accuracy: 0.5965 - val_loss: 1.5842 - val_accuracy: 0.5325\n",
            "Epoch 13/15\n",
            "11/11 [==============================] - 2s 183ms/step - loss: 1.1924 - accuracy: 0.6473 - val_loss: 1.6036 - val_accuracy: 0.5195\n",
            "Epoch 14/15\n",
            "11/11 [==============================] - 2s 182ms/step - loss: 1.1012 - accuracy: 0.6662 - val_loss: 1.5520 - val_accuracy: 0.5584\n",
            "Epoch 15/15\n",
            "11/11 [==============================] - 2s 183ms/step - loss: 1.0047 - accuracy: 0.6749 - val_loss: 1.5263 - val_accuracy: 0.5195\n"
          ],
          "name": "stdout"
        }
      ]
    },
    {
      "cell_type": "code",
      "metadata": {
        "id": "ohSYqq0pBuIb",
        "colab_type": "code",
        "outputId": "3e203ddf-5ade-4cce-b036-cb410dc2d7c1",
        "colab": {
          "base_uri": "https://localhost:8080/",
          "height": 86
        }
      },
      "source": [
        "accr = model.evaluate(X_test,Y_test)\n",
        "print('Test set\\n  Loss: {:0.3f}\\n  Accuracy: {:0.3f}'.format(accr[0],accr[1]))"
      ],
      "execution_count": 0,
      "outputs": [
        {
          "output_type": "stream",
          "text": [
            "3/3 [==============================] - 0s 12ms/step - loss: 1.3272 - accuracy: 0.5814\n",
            "Test set\n",
            "  Loss: 1.327\n",
            "  Accuracy: 0.581\n"
          ],
          "name": "stdout"
        }
      ]
    },
    {
      "cell_type": "code",
      "metadata": {
        "id": "V7bgQVLfDFxC",
        "colab_type": "code",
        "outputId": "273a8f45-5179-4d0f-c578-5574ce21a392",
        "colab": {
          "base_uri": "https://localhost:8080/",
          "height": 544
        }
      },
      "source": [
        "def plot_graphs(history, string):\n",
        "  plt.plot(history.history[string])\n",
        "  plt.plot(history.history['val_'+string])\n",
        "  plt.xlabel(\"Epochs\")\n",
        "  plt.ylabel(string)\n",
        "  plt.legend([string, 'val_'+string])\n",
        "  plt.show()\n",
        "  \n",
        "plot_graphs(history, \"accuracy\")\n",
        "plot_graphs(history, \"loss\")"
      ],
      "execution_count": 0,
      "outputs": [
        {
          "output_type": "display_data",
          "data": {
            "image/png": "[encoded data removed]",
            "text/plain": [
              "<Figure size 432x288 with 1 Axes>"
            ]
          },
          "metadata": {
            "tags": []
          }
        },
        {
          "output_type": "display_data",
          "data": {
            "image/png": "[encoded data removed]",
            "text/plain": [
              "<Figure size 432x288 with 1 Axes>"
            ]
          },
          "metadata": {
            "tags": []
          }
        }
      ]
    },
    {
      "cell_type": "code",
      "metadata": {
        "id": "RToeDsytLeDv",
        "colab_type": "code",
        "colab": {}
      },
      "source": [
        ""
      ],
      "execution_count": 0,
      "outputs": []
    }
  ]
}