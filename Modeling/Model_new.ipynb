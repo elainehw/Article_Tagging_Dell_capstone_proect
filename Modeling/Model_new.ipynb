{
 "cells": [
  {
   "cell_type": "code",
   "execution_count": 1,
   "metadata": {},
   "outputs": [],
   "source": [
    "# import basic packages for managing dataframe\n",
    "import pandas as pd\n",
    "import numpy as np\n",
    "from datetime import datetime\n",
    "\n",
    "# import visualization packages\n",
    "import seaborn as sns\n",
    "import matplotlib.pyplot as plt\n",
    "import matplotlib.ticker as ticker\n",
    "\n",
    "\n",
    "# regardless warnings\n",
    "import warnings \n",
    "import sys\n",
    "if not sys.warnoptions:\n",
    "    warnings.simplefilter(\"ignore\")\n",
    "\n",
    "# import model package \n",
    "# regression and classification\n",
    "from sklearn.linear_model import LinearRegression\n",
    "from sklearn.linear_model import LogisticRegression\n",
    "from sklearn.tree import DecisionTreeClassifier\n",
    "from sklearn.naive_bayes import BernoulliNB\n",
    "from sklearn.neighbors import KNeighborsClassifier\n",
    "from sklearn.ensemble import RandomForestClassifier\n",
    "from xgboost import XGBClassifier\n",
    "from sklearn.svm import LinearSVC\n",
    "\n",
    "#clustering\n",
    "from sklearn.cluster import KMeans\n",
    "\n",
    "# import measurement package\n",
    "from sklearn.metrics import accuracy_score\n",
    "from sklearn.metrics import confusion_matrix\n",
    "from sklearn.model_selection import train_test_split\n",
    "from sklearn.metrics import roc_curve, roc_auc_score, f1_score\n",
    "from sklearn import metrics\n",
    "\n",
    "\n",
    "# PCA\n",
    "from sklearn.preprocessing import StandardScaler\n",
    "from sklearn.decomposition import PCA"
   ]
  },
  {
   "cell_type": "code",
   "execution_count": 2,
   "metadata": {},
   "outputs": [],
   "source": [
    "df_train_1 = pd.read_csv('train_tfidf_by_article.csv',engine='python')\n",
    "df_test_1 = pd.read_csv('test_tfidf_by_article.csv',engine='python')"
   ]
  },
  {
   "cell_type": "code",
   "execution_count": 3,
   "metadata": {},
   "outputs": [
    {
     "data": {
      "text/plain": [
       "14367"
      ]
     },
     "execution_count": 3,
     "metadata": {},
     "output_type": "execute_result"
    }
   ],
   "source": [
    "len(df_train_1)"
   ]
  },
  {
   "cell_type": "code",
   "execution_count": 4,
   "metadata": {},
   "outputs": [
    {
     "data": {
      "text/plain": [
       "3592"
      ]
     },
     "execution_count": 4,
     "metadata": {},
     "output_type": "execute_result"
    }
   ],
   "source": [
    "len(df_test_1)"
   ]
  },
  {
   "cell_type": "markdown",
   "metadata": {},
   "source": [
    "# 1. Check train and test dataset"
   ]
  },
  {
   "cell_type": "code",
   "execution_count": 5,
   "metadata": {},
   "outputs": [],
   "source": [
    "def train_test_check(df_train, df_test):\n",
    "\n",
    "    sum_train=[]\n",
    "    sum_test=[]\n",
    "\n",
    "    for num_models in range(0,200): \n",
    "        # create y_train and y_test\n",
    "        y_train = []\n",
    "        y_test = []\n",
    "        for i  in range(len(df_train)):\n",
    "            y_train.append(int(df_train['Vec_Tags'].iloc[i].split(']')[0].split('[')[1].split(',')[num_models].rstrip(' ').lstrip(' ')))\n",
    "        for j  in range(len(df_test)):\n",
    "            y_test.append(int(df_test['Vec_Tags'].iloc[j].split(']')[0].split('[')[1].split(',')[num_models].rstrip(' ').lstrip(' ')))\n",
    "\n",
    "        sum_train.append(sum(y_train))\n",
    "        sum_test.append(sum(y_test))\n",
    "\n",
    "    # save result in train_test dataframe\n",
    "    data_tuples = list(zip(sum_train,sum_test))\n",
    "    train_test = pd.DataFrame(data_tuples,columns=['sum_train','sum_test'])\n",
    "    print('There are ',len(train_test[train_test['sum_test']==0]), 'tags that never occur in test dataset')\n",
    "\n",
    "    return train_test"
   ]
  },
  {
   "cell_type": "code",
   "execution_count": 6,
   "metadata": {},
   "outputs": [
    {
     "name": "stdout",
     "output_type": "stream",
     "text": [
      "There are  23 tags that never occur in test dataset\n"
     ]
    }
   ],
   "source": [
    "train_test = train_test_check(df_train_1,df_test_1)"
   ]
  },
  {
   "cell_type": "markdown",
   "metadata": {},
   "source": [
    "# 2. Get new tag index list\n",
    "(remove those tags that never occur in test dataset in both train and test)"
   ]
  },
  {
   "cell_type": "markdown",
   "metadata": {},
   "source": [
    "Since there are 200 tags in orginal train and test dataset, but there are some tags never occurring in test dataset. So, I removed those tag and get the new tag index list in order to use it in the model part. "
   ]
  },
  {
   "cell_type": "code",
   "execution_count": 7,
   "metadata": {},
   "outputs": [],
   "source": [
    "def tag_new(df):\n",
    "    tag_index_original = list(range(0, 200))\n",
    "    tag_index_new=[]\n",
    "    for i in tag_index_original:\n",
    "        if i in df[df['sum_test']==0].index:\n",
    "            pass\n",
    "        else:\n",
    "            tag_index_new.append(i)\n",
    "    return tag_index_new"
   ]
  },
  {
   "cell_type": "code",
   "execution_count": 8,
   "metadata": {},
   "outputs": [],
   "source": [
    "tag_index_new = tag_new(train_test)"
   ]
  },
  {
   "cell_type": "markdown",
   "metadata": {},
   "source": [
    "# 3. Shape Y and X"
   ]
  },
  {
   "cell_type": "code",
   "execution_count": 9,
   "metadata": {},
   "outputs": [],
   "source": [
    "columns_not_include = ['RECORDID','Tags','Tag_Count' 'Vec_Tags', 'Body', 'Body_Lemm',\n",
    "       'Body_Lemm_lower', 'Body_Token','Body_Length','Title', 'Title_Lemm',\n",
    "       'Title_Lemm_lower', 'Title_Token']\n",
    "\n",
    "# split train and test\n",
    "X_train = df_train_1.loc[:, ~df_train_1.columns.isin(columns_not_include)]\n",
    "\n",
    "X_test = df_test_1.loc[:, ~df_test_1.columns.isin(columns_not_include)]\n",
    "\n",
    "\n",
    "X_train= X_train.iloc[:,2:]\n",
    "X_test= X_test.iloc[:,2:]\n"
   ]
  },
  {
   "cell_type": "code",
   "execution_count": 10,
   "metadata": {},
   "outputs": [],
   "source": [
    "# Run PCA for the total dataset(Train+Test)\n",
    "\n",
    "#X_total = pd.concat([X_train, X_test])\n",
    "X_train = X_train.fillna(0)\n",
    "X_test = X_test.fillna(0)\n",
    "scaler = StandardScaler()\n",
    "scaler.fit(X_train)\n",
    "X_train = scaler.transform(X_train)\n",
    "X_test = scaler.transform(X_test)\n",
    "pca = PCA(0.9)\n",
    "pca.fit(X_train)\n",
    "X_train = pd.DataFrame(pca.transform(X_train))\n",
    "X_test = pd.DataFrame(pca.transform(X_test))\n",
    "\n"
   ]
  },
  {
   "cell_type": "code",
   "execution_count": 11,
   "metadata": {},
   "outputs": [
    {
     "data": {
      "text/html": [
       "<div>\n",
       "<style scoped>\n",
       "    .dataframe tbody tr th:only-of-type {\n",
       "        vertical-align: middle;\n",
       "    }\n",
       "\n",
       "    .dataframe tbody tr th {\n",
       "        vertical-align: top;\n",
       "    }\n",
       "\n",
       "    .dataframe thead th {\n",
       "        text-align: right;\n",
       "    }\n",
       "</style>\n",
       "<table border=\"1\" class=\"dataframe\">\n",
       "  <thead>\n",
       "    <tr style=\"text-align: right;\">\n",
       "      <th></th>\n",
       "      <th>0</th>\n",
       "      <th>1</th>\n",
       "      <th>2</th>\n",
       "      <th>3</th>\n",
       "      <th>4</th>\n",
       "      <th>5</th>\n",
       "      <th>6</th>\n",
       "      <th>7</th>\n",
       "      <th>8</th>\n",
       "      <th>9</th>\n",
       "      <th>...</th>\n",
       "      <th>523</th>\n",
       "      <th>524</th>\n",
       "      <th>525</th>\n",
       "      <th>526</th>\n",
       "      <th>527</th>\n",
       "      <th>528</th>\n",
       "      <th>529</th>\n",
       "      <th>530</th>\n",
       "      <th>531</th>\n",
       "      <th>532</th>\n",
       "    </tr>\n",
       "  </thead>\n",
       "  <tbody>\n",
       "    <tr>\n",
       "      <td>0</td>\n",
       "      <td>-1.920360</td>\n",
       "      <td>-2.025307</td>\n",
       "      <td>-0.488035</td>\n",
       "      <td>-3.734308</td>\n",
       "      <td>2.298330</td>\n",
       "      <td>9.016640</td>\n",
       "      <td>-4.803307</td>\n",
       "      <td>-5.506217</td>\n",
       "      <td>-0.715598</td>\n",
       "      <td>2.214637</td>\n",
       "      <td>...</td>\n",
       "      <td>1.241815</td>\n",
       "      <td>-0.107761</td>\n",
       "      <td>-0.058666</td>\n",
       "      <td>0.121002</td>\n",
       "      <td>-1.596618</td>\n",
       "      <td>-0.466684</td>\n",
       "      <td>-1.090763</td>\n",
       "      <td>0.074548</td>\n",
       "      <td>0.530112</td>\n",
       "      <td>1.700956</td>\n",
       "    </tr>\n",
       "    <tr>\n",
       "      <td>1</td>\n",
       "      <td>-1.025135</td>\n",
       "      <td>-2.088423</td>\n",
       "      <td>-0.303601</td>\n",
       "      <td>-0.490502</td>\n",
       "      <td>-0.830195</td>\n",
       "      <td>-2.260281</td>\n",
       "      <td>-2.661216</td>\n",
       "      <td>0.527168</td>\n",
       "      <td>1.202328</td>\n",
       "      <td>-2.988569</td>\n",
       "      <td>...</td>\n",
       "      <td>0.233506</td>\n",
       "      <td>-0.282613</td>\n",
       "      <td>-0.809022</td>\n",
       "      <td>0.188899</td>\n",
       "      <td>0.610206</td>\n",
       "      <td>-0.437351</td>\n",
       "      <td>-1.148587</td>\n",
       "      <td>-0.176996</td>\n",
       "      <td>-0.206910</td>\n",
       "      <td>-0.228192</td>\n",
       "    </tr>\n",
       "    <tr>\n",
       "      <td>2</td>\n",
       "      <td>-0.633747</td>\n",
       "      <td>-1.865797</td>\n",
       "      <td>11.810453</td>\n",
       "      <td>-9.687797</td>\n",
       "      <td>-1.314967</td>\n",
       "      <td>22.681561</td>\n",
       "      <td>-2.102608</td>\n",
       "      <td>-13.534158</td>\n",
       "      <td>-1.359852</td>\n",
       "      <td>3.228489</td>\n",
       "      <td>...</td>\n",
       "      <td>-1.021376</td>\n",
       "      <td>1.298406</td>\n",
       "      <td>-0.802384</td>\n",
       "      <td>0.578871</td>\n",
       "      <td>0.764142</td>\n",
       "      <td>-1.581936</td>\n",
       "      <td>-1.555181</td>\n",
       "      <td>1.637535</td>\n",
       "      <td>-1.389879</td>\n",
       "      <td>1.906686</td>\n",
       "    </tr>\n",
       "    <tr>\n",
       "      <td>3</td>\n",
       "      <td>-0.802478</td>\n",
       "      <td>-1.927446</td>\n",
       "      <td>-1.877104</td>\n",
       "      <td>1.001584</td>\n",
       "      <td>1.248444</td>\n",
       "      <td>-1.363873</td>\n",
       "      <td>-1.854483</td>\n",
       "      <td>0.724771</td>\n",
       "      <td>0.841190</td>\n",
       "      <td>-1.684479</td>\n",
       "      <td>...</td>\n",
       "      <td>-0.735470</td>\n",
       "      <td>0.305045</td>\n",
       "      <td>-0.406287</td>\n",
       "      <td>-0.205839</td>\n",
       "      <td>0.064388</td>\n",
       "      <td>-1.999274</td>\n",
       "      <td>-0.085321</td>\n",
       "      <td>-1.028099</td>\n",
       "      <td>0.245345</td>\n",
       "      <td>-1.180944</td>\n",
       "    </tr>\n",
       "    <tr>\n",
       "      <td>4</td>\n",
       "      <td>-0.771136</td>\n",
       "      <td>-2.300049</td>\n",
       "      <td>-2.190940</td>\n",
       "      <td>1.785200</td>\n",
       "      <td>-0.394352</td>\n",
       "      <td>-1.249311</td>\n",
       "      <td>-2.195010</td>\n",
       "      <td>0.573357</td>\n",
       "      <td>0.215922</td>\n",
       "      <td>0.390370</td>\n",
       "      <td>...</td>\n",
       "      <td>1.467404</td>\n",
       "      <td>-1.224910</td>\n",
       "      <td>-0.217043</td>\n",
       "      <td>-0.035445</td>\n",
       "      <td>-1.390102</td>\n",
       "      <td>0.399769</td>\n",
       "      <td>0.256487</td>\n",
       "      <td>0.779975</td>\n",
       "      <td>0.101936</td>\n",
       "      <td>0.431399</td>\n",
       "    </tr>\n",
       "  </tbody>\n",
       "</table>\n",
       "<p>5 rows × 533 columns</p>\n",
       "</div>"
      ],
      "text/plain": [
       "        0         1          2         3         4          5         6    \\\n",
       "0 -1.920360 -2.025307  -0.488035 -3.734308  2.298330   9.016640 -4.803307   \n",
       "1 -1.025135 -2.088423  -0.303601 -0.490502 -0.830195  -2.260281 -2.661216   \n",
       "2 -0.633747 -1.865797  11.810453 -9.687797 -1.314967  22.681561 -2.102608   \n",
       "3 -0.802478 -1.927446  -1.877104  1.001584  1.248444  -1.363873 -1.854483   \n",
       "4 -0.771136 -2.300049  -2.190940  1.785200 -0.394352  -1.249311 -2.195010   \n",
       "\n",
       "         7         8         9    ...       523       524       525       526  \\\n",
       "0  -5.506217 -0.715598  2.214637  ...  1.241815 -0.107761 -0.058666  0.121002   \n",
       "1   0.527168  1.202328 -2.988569  ...  0.233506 -0.282613 -0.809022  0.188899   \n",
       "2 -13.534158 -1.359852  3.228489  ... -1.021376  1.298406 -0.802384  0.578871   \n",
       "3   0.724771  0.841190 -1.684479  ... -0.735470  0.305045 -0.406287 -0.205839   \n",
       "4   0.573357  0.215922  0.390370  ...  1.467404 -1.224910 -0.217043 -0.035445   \n",
       "\n",
       "        527       528       529       530       531       532  \n",
       "0 -1.596618 -0.466684 -1.090763  0.074548  0.530112  1.700956  \n",
       "1  0.610206 -0.437351 -1.148587 -0.176996 -0.206910 -0.228192  \n",
       "2  0.764142 -1.581936 -1.555181  1.637535 -1.389879  1.906686  \n",
       "3  0.064388 -1.999274 -0.085321 -1.028099  0.245345 -1.180944  \n",
       "4 -1.390102  0.399769  0.256487  0.779975  0.101936  0.431399  \n",
       "\n",
       "[5 rows x 533 columns]"
      ]
     },
     "execution_count": 11,
     "metadata": {},
     "output_type": "execute_result"
    }
   ],
   "source": [
    "X_train.head()"
   ]
  },
  {
   "cell_type": "code",
   "execution_count": 12,
   "metadata": {},
   "outputs": [
    {
     "data": {
      "text/html": [
       "<div>\n",
       "<style scoped>\n",
       "    .dataframe tbody tr th:only-of-type {\n",
       "        vertical-align: middle;\n",
       "    }\n",
       "\n",
       "    .dataframe tbody tr th {\n",
       "        vertical-align: top;\n",
       "    }\n",
       "\n",
       "    .dataframe thead th {\n",
       "        text-align: right;\n",
       "    }\n",
       "</style>\n",
       "<table border=\"1\" class=\"dataframe\">\n",
       "  <thead>\n",
       "    <tr style=\"text-align: right;\">\n",
       "      <th></th>\n",
       "      <th>0</th>\n",
       "      <th>1</th>\n",
       "      <th>2</th>\n",
       "      <th>3</th>\n",
       "      <th>4</th>\n",
       "      <th>5</th>\n",
       "      <th>6</th>\n",
       "      <th>7</th>\n",
       "      <th>8</th>\n",
       "      <th>9</th>\n",
       "      <th>...</th>\n",
       "      <th>523</th>\n",
       "      <th>524</th>\n",
       "      <th>525</th>\n",
       "      <th>526</th>\n",
       "      <th>527</th>\n",
       "      <th>528</th>\n",
       "      <th>529</th>\n",
       "      <th>530</th>\n",
       "      <th>531</th>\n",
       "      <th>532</th>\n",
       "    </tr>\n",
       "  </thead>\n",
       "  <tbody>\n",
       "    <tr>\n",
       "      <td>0</td>\n",
       "      <td>-0.621252</td>\n",
       "      <td>-2.386410</td>\n",
       "      <td>-0.973592</td>\n",
       "      <td>5.029580</td>\n",
       "      <td>0.813045</td>\n",
       "      <td>-1.110251</td>\n",
       "      <td>-2.916245</td>\n",
       "      <td>0.734961</td>\n",
       "      <td>-1.450492</td>\n",
       "      <td>-1.957928</td>\n",
       "      <td>...</td>\n",
       "      <td>0.936226</td>\n",
       "      <td>-0.651705</td>\n",
       "      <td>-0.927697</td>\n",
       "      <td>-0.018274</td>\n",
       "      <td>0.021003</td>\n",
       "      <td>0.419202</td>\n",
       "      <td>-0.101816</td>\n",
       "      <td>-0.494140</td>\n",
       "      <td>0.051704</td>\n",
       "      <td>0.330897</td>\n",
       "    </tr>\n",
       "    <tr>\n",
       "      <td>1</td>\n",
       "      <td>-1.266339</td>\n",
       "      <td>-2.257428</td>\n",
       "      <td>-4.019359</td>\n",
       "      <td>-1.681501</td>\n",
       "      <td>4.389693</td>\n",
       "      <td>-2.911988</td>\n",
       "      <td>1.278999</td>\n",
       "      <td>1.832752</td>\n",
       "      <td>-0.513387</td>\n",
       "      <td>-0.622428</td>\n",
       "      <td>...</td>\n",
       "      <td>1.225843</td>\n",
       "      <td>0.520471</td>\n",
       "      <td>0.024277</td>\n",
       "      <td>0.424129</td>\n",
       "      <td>0.329023</td>\n",
       "      <td>-1.026057</td>\n",
       "      <td>-1.036683</td>\n",
       "      <td>-0.612735</td>\n",
       "      <td>0.591435</td>\n",
       "      <td>-0.717920</td>\n",
       "    </tr>\n",
       "    <tr>\n",
       "      <td>2</td>\n",
       "      <td>-1.480727</td>\n",
       "      <td>-3.030803</td>\n",
       "      <td>7.061632</td>\n",
       "      <td>6.327930</td>\n",
       "      <td>-11.847097</td>\n",
       "      <td>4.675818</td>\n",
       "      <td>12.761250</td>\n",
       "      <td>-1.275543</td>\n",
       "      <td>-1.458532</td>\n",
       "      <td>0.459931</td>\n",
       "      <td>...</td>\n",
       "      <td>-0.054193</td>\n",
       "      <td>0.943915</td>\n",
       "      <td>-0.549627</td>\n",
       "      <td>-0.502465</td>\n",
       "      <td>1.709382</td>\n",
       "      <td>0.238153</td>\n",
       "      <td>0.717796</td>\n",
       "      <td>-1.488422</td>\n",
       "      <td>-0.522473</td>\n",
       "      <td>-0.435056</td>\n",
       "    </tr>\n",
       "    <tr>\n",
       "      <td>3</td>\n",
       "      <td>-0.924857</td>\n",
       "      <td>-2.613334</td>\n",
       "      <td>-3.459448</td>\n",
       "      <td>0.316734</td>\n",
       "      <td>-0.726264</td>\n",
       "      <td>-0.311774</td>\n",
       "      <td>-1.430269</td>\n",
       "      <td>0.187544</td>\n",
       "      <td>-0.266061</td>\n",
       "      <td>-2.813617</td>\n",
       "      <td>...</td>\n",
       "      <td>-0.333675</td>\n",
       "      <td>-0.284693</td>\n",
       "      <td>-1.377223</td>\n",
       "      <td>0.094167</td>\n",
       "      <td>-1.039133</td>\n",
       "      <td>0.127921</td>\n",
       "      <td>0.393092</td>\n",
       "      <td>0.137543</td>\n",
       "      <td>0.246720</td>\n",
       "      <td>1.263986</td>\n",
       "    </tr>\n",
       "    <tr>\n",
       "      <td>4</td>\n",
       "      <td>-1.378592</td>\n",
       "      <td>-3.083908</td>\n",
       "      <td>-1.267404</td>\n",
       "      <td>10.522808</td>\n",
       "      <td>-10.205247</td>\n",
       "      <td>3.220854</td>\n",
       "      <td>12.659246</td>\n",
       "      <td>-0.219020</td>\n",
       "      <td>1.427060</td>\n",
       "      <td>-1.358369</td>\n",
       "      <td>...</td>\n",
       "      <td>-0.054182</td>\n",
       "      <td>-0.015319</td>\n",
       "      <td>-0.000714</td>\n",
       "      <td>-0.060848</td>\n",
       "      <td>-0.198140</td>\n",
       "      <td>-0.243166</td>\n",
       "      <td>-0.330198</td>\n",
       "      <td>0.072019</td>\n",
       "      <td>0.605127</td>\n",
       "      <td>0.554965</td>\n",
       "    </tr>\n",
       "  </tbody>\n",
       "</table>\n",
       "<p>5 rows × 533 columns</p>\n",
       "</div>"
      ],
      "text/plain": [
       "        0         1         2          3          4         5          6    \\\n",
       "0 -0.621252 -2.386410 -0.973592   5.029580   0.813045 -1.110251  -2.916245   \n",
       "1 -1.266339 -2.257428 -4.019359  -1.681501   4.389693 -2.911988   1.278999   \n",
       "2 -1.480727 -3.030803  7.061632   6.327930 -11.847097  4.675818  12.761250   \n",
       "3 -0.924857 -2.613334 -3.459448   0.316734  -0.726264 -0.311774  -1.430269   \n",
       "4 -1.378592 -3.083908 -1.267404  10.522808 -10.205247  3.220854  12.659246   \n",
       "\n",
       "        7         8         9    ...       523       524       525       526  \\\n",
       "0  0.734961 -1.450492 -1.957928  ...  0.936226 -0.651705 -0.927697 -0.018274   \n",
       "1  1.832752 -0.513387 -0.622428  ...  1.225843  0.520471  0.024277  0.424129   \n",
       "2 -1.275543 -1.458532  0.459931  ... -0.054193  0.943915 -0.549627 -0.502465   \n",
       "3  0.187544 -0.266061 -2.813617  ... -0.333675 -0.284693 -1.377223  0.094167   \n",
       "4 -0.219020  1.427060 -1.358369  ... -0.054182 -0.015319 -0.000714 -0.060848   \n",
       "\n",
       "        527       528       529       530       531       532  \n",
       "0  0.021003  0.419202 -0.101816 -0.494140  0.051704  0.330897  \n",
       "1  0.329023 -1.026057 -1.036683 -0.612735  0.591435 -0.717920  \n",
       "2  1.709382  0.238153  0.717796 -1.488422 -0.522473 -0.435056  \n",
       "3 -1.039133  0.127921  0.393092  0.137543  0.246720  1.263986  \n",
       "4 -0.198140 -0.243166 -0.330198  0.072019  0.605127  0.554965  \n",
       "\n",
       "[5 rows x 533 columns]"
      ]
     },
     "execution_count": 12,
     "metadata": {},
     "output_type": "execute_result"
    }
   ],
   "source": [
    "X_test.head()"
   ]
  },
  {
   "cell_type": "markdown",
   "metadata": {},
   "source": [
    "# 4. Models"
   ]
  },
  {
   "cell_type": "markdown",
   "metadata": {},
   "source": [
    "# 4.1 Logistic regression"
   ]
  },
  {
   "cell_type": "code",
   "execution_count": 13,
   "metadata": {},
   "outputs": [],
   "source": [
    "accuracy = []\n",
    "f1_score=[]\n",
    "roc = []\n",
    "# compute how many 1 in each model\n",
    "sum_train=[]\n",
    "sum_test=[]\n",
    "\n",
    "X_train_lg = X_train.copy()\n",
    "X_test_lg = X_test.copy()\n",
    "for num_models in tag_index_new: \n",
    "    # create y_train and y_test\n",
    "    y_train = []\n",
    "    y_test = []\n",
    "    for i  in range(len(df_train_1)):\n",
    "        y_train.append(int(df_train_1['Vec_Tags'].iloc[i].split(']')[0].split('[')[1].split(',')[num_models].rstrip(' ').lstrip(' ')))\n",
    "    for j  in range(len(df_test_1)):\n",
    "        y_test.append(int(df_test_1['Vec_Tags'].iloc[j].split(']')[0].split('[')[1].split(',')[num_models].rstrip(' ').lstrip(' ')))\n",
    "    \n",
    "    sum_train.append(sum(y_train))\n",
    "    sum_test.append(sum(y_test))\n",
    "    # logistic regression\n",
    "    lg = LogisticRegression().fit(X_train_lg, y_train)\n",
    "    y_pred_lg_test = lg.predict(X_test_lg)\n",
    "    y_pred_lg_train = lg.predict(X_train_lg)\n",
    "    y_score_lg_test = lg.predict_proba(X_test_lg)[:,1]\n",
    "    y_score_lg_train = lg.predict_proba(X_train_lg)[:,1]\n",
    "    acc_lg = accuracy_score(y_test, y_pred_lg_test)\n",
    "    f1_score_lg = metrics.f1_score(y_test, y_pred_lg_test)\n",
    "    roc_lg = metrics.roc_auc_score(y_test, y_pred_lg_test)\n",
    "    accuracy.append(acc_lg)\n",
    "    f1_score.append(f1_score_lg)\n",
    "    roc.append(roc_lg)\n",
    "    \n",
    "    # create new column: the predict result for the next model\n",
    "    X_train_lg['predict_'+str(num_models)] = y_pred_lg_train\n",
    "    X_test_lg['predict_'+str(num_models)] = y_pred_lg_test"
   ]
  },
  {
   "cell_type": "code",
   "execution_count": 14,
   "metadata": {},
   "outputs": [],
   "source": [
    "data_tuples = list(zip(accuracy,f1_score,roc,sum_train,sum_test))\n",
    "result_lg = pd.DataFrame(data_tuples,columns=['accuracy','f1_score','roc','sum_train','sum_test'])\n",
    "result_lg['sum_train'] = result_lg['sum_train']/len(y_train)\n",
    "result_lg['sum_test'] = result_lg['sum_test']/len(y_test)"
   ]
  },
  {
   "cell_type": "code",
   "execution_count": 15,
   "metadata": {},
   "outputs": [
    {
     "data": {
      "text/html": [
       "<div>\n",
       "<style scoped>\n",
       "    .dataframe tbody tr th:only-of-type {\n",
       "        vertical-align: middle;\n",
       "    }\n",
       "\n",
       "    .dataframe tbody tr th {\n",
       "        vertical-align: top;\n",
       "    }\n",
       "\n",
       "    .dataframe thead th {\n",
       "        text-align: right;\n",
       "    }\n",
       "</style>\n",
       "<table border=\"1\" class=\"dataframe\">\n",
       "  <thead>\n",
       "    <tr style=\"text-align: right;\">\n",
       "      <th></th>\n",
       "      <th>accuracy</th>\n",
       "      <th>f1_score</th>\n",
       "      <th>roc</th>\n",
       "      <th>sum_train</th>\n",
       "      <th>sum_test</th>\n",
       "    </tr>\n",
       "  </thead>\n",
       "  <tbody>\n",
       "    <tr>\n",
       "      <td>0</td>\n",
       "      <td>0.996102</td>\n",
       "      <td>0.766667</td>\n",
       "      <td>0.958318</td>\n",
       "      <td>0.009814</td>\n",
       "      <td>0.006960</td>\n",
       "    </tr>\n",
       "    <tr>\n",
       "      <td>1</td>\n",
       "      <td>0.997494</td>\n",
       "      <td>0.769231</td>\n",
       "      <td>0.825947</td>\n",
       "      <td>0.007030</td>\n",
       "      <td>0.006403</td>\n",
       "    </tr>\n",
       "    <tr>\n",
       "      <td>2</td>\n",
       "      <td>0.997216</td>\n",
       "      <td>0.736842</td>\n",
       "      <td>0.817902</td>\n",
       "      <td>0.006960</td>\n",
       "      <td>0.006125</td>\n",
       "    </tr>\n",
       "    <tr>\n",
       "      <td>3</td>\n",
       "      <td>0.990813</td>\n",
       "      <td>0.507463</td>\n",
       "      <td>0.740749</td>\n",
       "      <td>0.006821</td>\n",
       "      <td>0.009744</td>\n",
       "    </tr>\n",
       "    <tr>\n",
       "      <td>4</td>\n",
       "      <td>0.990813</td>\n",
       "      <td>0.507463</td>\n",
       "      <td>0.740749</td>\n",
       "      <td>0.006821</td>\n",
       "      <td>0.009744</td>\n",
       "    </tr>\n",
       "    <tr>\n",
       "      <td>...</td>\n",
       "      <td>...</td>\n",
       "      <td>...</td>\n",
       "      <td>...</td>\n",
       "      <td>...</td>\n",
       "      <td>...</td>\n",
       "    </tr>\n",
       "    <tr>\n",
       "      <td>172</td>\n",
       "      <td>0.999722</td>\n",
       "      <td>0.000000</td>\n",
       "      <td>0.500000</td>\n",
       "      <td>0.000418</td>\n",
       "      <td>0.000278</td>\n",
       "    </tr>\n",
       "    <tr>\n",
       "      <td>173</td>\n",
       "      <td>0.999443</td>\n",
       "      <td>0.500000</td>\n",
       "      <td>0.666667</td>\n",
       "      <td>0.000418</td>\n",
       "      <td>0.000835</td>\n",
       "    </tr>\n",
       "    <tr>\n",
       "      <td>174</td>\n",
       "      <td>1.000000</td>\n",
       "      <td>1.000000</td>\n",
       "      <td>1.000000</td>\n",
       "      <td>0.000418</td>\n",
       "      <td>0.000835</td>\n",
       "    </tr>\n",
       "    <tr>\n",
       "      <td>175</td>\n",
       "      <td>0.999722</td>\n",
       "      <td>0.666667</td>\n",
       "      <td>0.750000</td>\n",
       "      <td>0.000418</td>\n",
       "      <td>0.000557</td>\n",
       "    </tr>\n",
       "    <tr>\n",
       "      <td>176</td>\n",
       "      <td>1.000000</td>\n",
       "      <td>1.000000</td>\n",
       "      <td>1.000000</td>\n",
       "      <td>0.000418</td>\n",
       "      <td>0.000557</td>\n",
       "    </tr>\n",
       "  </tbody>\n",
       "</table>\n",
       "<p>177 rows × 5 columns</p>\n",
       "</div>"
      ],
      "text/plain": [
       "     accuracy  f1_score       roc  sum_train  sum_test\n",
       "0    0.996102  0.766667  0.958318   0.009814  0.006960\n",
       "1    0.997494  0.769231  0.825947   0.007030  0.006403\n",
       "2    0.997216  0.736842  0.817902   0.006960  0.006125\n",
       "3    0.990813  0.507463  0.740749   0.006821  0.009744\n",
       "4    0.990813  0.507463  0.740749   0.006821  0.009744\n",
       "..        ...       ...       ...        ...       ...\n",
       "172  0.999722  0.000000  0.500000   0.000418  0.000278\n",
       "173  0.999443  0.500000  0.666667   0.000418  0.000835\n",
       "174  1.000000  1.000000  1.000000   0.000418  0.000835\n",
       "175  0.999722  0.666667  0.750000   0.000418  0.000557\n",
       "176  1.000000  1.000000  1.000000   0.000418  0.000557\n",
       "\n",
       "[177 rows x 5 columns]"
      ]
     },
     "execution_count": 15,
     "metadata": {},
     "output_type": "execute_result"
    }
   ],
   "source": [
    "# Here is the result for 177 models(since 177 tags)\n",
    "result_lg"
   ]
  },
  {
   "cell_type": "code",
   "execution_count": 16,
   "metadata": {},
   "outputs": [
    {
     "data": {
      "image/png": "[encoded data removed]",
      "text/plain": [
       "<Figure size 432x288 with 1 Axes>"
      ]
     },
     "metadata": {
      "needs_background": "light"
     },
     "output_type": "display_data"
    }
   ],
   "source": [
    "plt.plot(result_lg.accuracy,label='Logistic regression')\n",
    "plt.title('Accuracy in logistic regression')\n",
    "#plt.xlim(0,9)\n",
    "plt.legend()\n",
    "plt.show()"
   ]
  },
  {
   "cell_type": "code",
   "execution_count": 17,
   "metadata": {
    "scrolled": true
   },
   "outputs": [
    {
     "data": {
      "image/png": "[encoded data removed]",
      "text/plain": [
       "<Figure size 432x288 with 1 Axes>"
      ]
     },
     "metadata": {
      "needs_background": "light"
     },
     "output_type": "display_data"
    }
   ],
   "source": [
    "plt.plot(result_lg.f1_score,label='Logistic regression',marker='o')\n",
    "plt.title('F1_score in logistic regression')\n",
    "#plt.xlim(0,9)\n",
    "plt.legend()\n",
    "plt.show()"
   ]
  },
  {
   "cell_type": "markdown",
   "metadata": {},
   "source": [
    "# 4.2 Random Forest"
   ]
  },
  {
   "cell_type": "code",
   "execution_count": 91,
   "metadata": {},
   "outputs": [
    {
     "ename": "KeyboardInterrupt",
     "evalue": "",
     "output_type": "error",
     "traceback": [
      "\u001b[1;31m---------------------------------------------------------------------------\u001b[0m",
      "\u001b[1;31mKeyboardInterrupt\u001b[0m                         Traceback (most recent call last)",
      "\u001b[1;32m<ipython-input-91-085cc3664718>\u001b[0m in \u001b[0;36m<module>\u001b[1;34m\u001b[0m\n\u001b[0;32m     26\u001b[0m     \u001b[0my_pred_rf_test\u001b[0m \u001b[1;33m=\u001b[0m \u001b[0mrf\u001b[0m\u001b[1;33m.\u001b[0m\u001b[0mpredict\u001b[0m\u001b[1;33m(\u001b[0m\u001b[0mX_test_rf\u001b[0m\u001b[1;33m)\u001b[0m\u001b[1;33m\u001b[0m\u001b[1;33m\u001b[0m\u001b[0m\n\u001b[0;32m     27\u001b[0m     \u001b[0my_pred_rf_train\u001b[0m \u001b[1;33m=\u001b[0m \u001b[0mrf\u001b[0m\u001b[1;33m.\u001b[0m\u001b[0mpredict\u001b[0m\u001b[1;33m(\u001b[0m\u001b[0mX_train_rf\u001b[0m\u001b[1;33m)\u001b[0m\u001b[1;33m\u001b[0m\u001b[1;33m\u001b[0m\u001b[0m\n\u001b[1;32m---> 28\u001b[1;33m     \u001b[0my_score_rf\u001b[0m \u001b[1;33m=\u001b[0m \u001b[0mrf\u001b[0m\u001b[1;33m.\u001b[0m\u001b[0mpredict_proba\u001b[0m\u001b[1;33m(\u001b[0m\u001b[0mX_test_rf\u001b[0m\u001b[1;33m)\u001b[0m\u001b[1;33m[\u001b[0m\u001b[1;33m:\u001b[0m\u001b[1;33m,\u001b[0m\u001b[1;36m1\u001b[0m\u001b[1;33m]\u001b[0m\u001b[1;33m\u001b[0m\u001b[1;33m\u001b[0m\u001b[0m\n\u001b[0m\u001b[0;32m     29\u001b[0m     \u001b[0macc_rf\u001b[0m \u001b[1;33m=\u001b[0m \u001b[0maccuracy_score\u001b[0m\u001b[1;33m(\u001b[0m\u001b[0my_test\u001b[0m\u001b[1;33m,\u001b[0m \u001b[0my_pred_rf_test\u001b[0m\u001b[1;33m)\u001b[0m\u001b[1;33m\u001b[0m\u001b[1;33m\u001b[0m\u001b[0m\n\u001b[0;32m     30\u001b[0m     \u001b[0mf1_score_rf_result\u001b[0m \u001b[1;33m=\u001b[0m \u001b[0mmetrics\u001b[0m\u001b[1;33m.\u001b[0m\u001b[0mf1_score\u001b[0m\u001b[1;33m(\u001b[0m\u001b[0my_test\u001b[0m\u001b[1;33m,\u001b[0m \u001b[0my_pred_rf_test\u001b[0m\u001b[1;33m)\u001b[0m\u001b[1;33m\u001b[0m\u001b[1;33m\u001b[0m\u001b[0m\n",
      "\u001b[1;32m~\\Anaconda3\\lib\\site-packages\\sklearn\\ensemble\\_forest.py\u001b[0m in \u001b[0;36mpredict_proba\u001b[1;34m(self, X)\u001b[0m\n\u001b[0;32m    667\u001b[0m             delayed(_accumulate_prediction)(e.predict_proba, X, all_proba,\n\u001b[0;32m    668\u001b[0m                                             lock)\n\u001b[1;32m--> 669\u001b[1;33m             for e in self.estimators_)\n\u001b[0m\u001b[0;32m    670\u001b[0m \u001b[1;33m\u001b[0m\u001b[0m\n\u001b[0;32m    671\u001b[0m         \u001b[1;32mfor\u001b[0m \u001b[0mproba\u001b[0m \u001b[1;32min\u001b[0m \u001b[0mall_proba\u001b[0m\u001b[1;33m:\u001b[0m\u001b[1;33m\u001b[0m\u001b[1;33m\u001b[0m\u001b[0m\n",
      "\u001b[1;32m~\\Anaconda3\\lib\\site-packages\\joblib\\parallel.py\u001b[0m in \u001b[0;36m__call__\u001b[1;34m(self, iterable)\u001b[0m\n\u001b[0;32m    922\u001b[0m                 \u001b[0mself\u001b[0m\u001b[1;33m.\u001b[0m\u001b[0m_iterating\u001b[0m \u001b[1;33m=\u001b[0m \u001b[0mself\u001b[0m\u001b[1;33m.\u001b[0m\u001b[0m_original_iterator\u001b[0m \u001b[1;32mis\u001b[0m \u001b[1;32mnot\u001b[0m \u001b[1;32mNone\u001b[0m\u001b[1;33m\u001b[0m\u001b[1;33m\u001b[0m\u001b[0m\n\u001b[0;32m    923\u001b[0m \u001b[1;33m\u001b[0m\u001b[0m\n\u001b[1;32m--> 924\u001b[1;33m             \u001b[1;32mwhile\u001b[0m \u001b[0mself\u001b[0m\u001b[1;33m.\u001b[0m\u001b[0mdispatch_one_batch\u001b[0m\u001b[1;33m(\u001b[0m\u001b[0miterator\u001b[0m\u001b[1;33m)\u001b[0m\u001b[1;33m:\u001b[0m\u001b[1;33m\u001b[0m\u001b[1;33m\u001b[0m\u001b[0m\n\u001b[0m\u001b[0;32m    925\u001b[0m                 \u001b[1;32mpass\u001b[0m\u001b[1;33m\u001b[0m\u001b[1;33m\u001b[0m\u001b[0m\n\u001b[0;32m    926\u001b[0m \u001b[1;33m\u001b[0m\u001b[0m\n",
      "\u001b[1;32m~\\Anaconda3\\lib\\site-packages\\joblib\\parallel.py\u001b[0m in \u001b[0;36mdispatch_one_batch\u001b[1;34m(self, iterator)\u001b[0m\n\u001b[0;32m    757\u001b[0m                 \u001b[1;32mreturn\u001b[0m \u001b[1;32mFalse\u001b[0m\u001b[1;33m\u001b[0m\u001b[1;33m\u001b[0m\u001b[0m\n\u001b[0;32m    758\u001b[0m             \u001b[1;32melse\u001b[0m\u001b[1;33m:\u001b[0m\u001b[1;33m\u001b[0m\u001b[1;33m\u001b[0m\u001b[0m\n\u001b[1;32m--> 759\u001b[1;33m                 \u001b[0mself\u001b[0m\u001b[1;33m.\u001b[0m\u001b[0m_dispatch\u001b[0m\u001b[1;33m(\u001b[0m\u001b[0mtasks\u001b[0m\u001b[1;33m)\u001b[0m\u001b[1;33m\u001b[0m\u001b[1;33m\u001b[0m\u001b[0m\n\u001b[0m\u001b[0;32m    760\u001b[0m                 \u001b[1;32mreturn\u001b[0m \u001b[1;32mTrue\u001b[0m\u001b[1;33m\u001b[0m\u001b[1;33m\u001b[0m\u001b[0m\n\u001b[0;32m    761\u001b[0m \u001b[1;33m\u001b[0m\u001b[0m\n",
      "\u001b[1;32m~\\Anaconda3\\lib\\site-packages\\joblib\\parallel.py\u001b[0m in \u001b[0;36m_dispatch\u001b[1;34m(self, batch)\u001b[0m\n\u001b[0;32m    714\u001b[0m         \u001b[1;32mwith\u001b[0m \u001b[0mself\u001b[0m\u001b[1;33m.\u001b[0m\u001b[0m_lock\u001b[0m\u001b[1;33m:\u001b[0m\u001b[1;33m\u001b[0m\u001b[1;33m\u001b[0m\u001b[0m\n\u001b[0;32m    715\u001b[0m             \u001b[0mjob_idx\u001b[0m \u001b[1;33m=\u001b[0m \u001b[0mlen\u001b[0m\u001b[1;33m(\u001b[0m\u001b[0mself\u001b[0m\u001b[1;33m.\u001b[0m\u001b[0m_jobs\u001b[0m\u001b[1;33m)\u001b[0m\u001b[1;33m\u001b[0m\u001b[1;33m\u001b[0m\u001b[0m\n\u001b[1;32m--> 716\u001b[1;33m             \u001b[0mjob\u001b[0m \u001b[1;33m=\u001b[0m \u001b[0mself\u001b[0m\u001b[1;33m.\u001b[0m\u001b[0m_backend\u001b[0m\u001b[1;33m.\u001b[0m\u001b[0mapply_async\u001b[0m\u001b[1;33m(\u001b[0m\u001b[0mbatch\u001b[0m\u001b[1;33m,\u001b[0m \u001b[0mcallback\u001b[0m\u001b[1;33m=\u001b[0m\u001b[0mcb\u001b[0m\u001b[1;33m)\u001b[0m\u001b[1;33m\u001b[0m\u001b[1;33m\u001b[0m\u001b[0m\n\u001b[0m\u001b[0;32m    717\u001b[0m             \u001b[1;31m# A job can complete so quickly than its callback is\u001b[0m\u001b[1;33m\u001b[0m\u001b[1;33m\u001b[0m\u001b[1;33m\u001b[0m\u001b[0m\n\u001b[0;32m    718\u001b[0m             \u001b[1;31m# called before we get here, causing self._jobs to\u001b[0m\u001b[1;33m\u001b[0m\u001b[1;33m\u001b[0m\u001b[1;33m\u001b[0m\u001b[0m\n",
      "\u001b[1;32m~\\Anaconda3\\lib\\site-packages\\joblib\\_parallel_backends.py\u001b[0m in \u001b[0;36mapply_async\u001b[1;34m(self, func, callback)\u001b[0m\n\u001b[0;32m    180\u001b[0m     \u001b[1;32mdef\u001b[0m \u001b[0mapply_async\u001b[0m\u001b[1;33m(\u001b[0m\u001b[0mself\u001b[0m\u001b[1;33m,\u001b[0m \u001b[0mfunc\u001b[0m\u001b[1;33m,\u001b[0m \u001b[0mcallback\u001b[0m\u001b[1;33m=\u001b[0m\u001b[1;32mNone\u001b[0m\u001b[1;33m)\u001b[0m\u001b[1;33m:\u001b[0m\u001b[1;33m\u001b[0m\u001b[1;33m\u001b[0m\u001b[0m\n\u001b[0;32m    181\u001b[0m         \u001b[1;34m\"\"\"Schedule a func to be run\"\"\"\u001b[0m\u001b[1;33m\u001b[0m\u001b[1;33m\u001b[0m\u001b[0m\n\u001b[1;32m--> 182\u001b[1;33m         \u001b[0mresult\u001b[0m \u001b[1;33m=\u001b[0m \u001b[0mImmediateResult\u001b[0m\u001b[1;33m(\u001b[0m\u001b[0mfunc\u001b[0m\u001b[1;33m)\u001b[0m\u001b[1;33m\u001b[0m\u001b[1;33m\u001b[0m\u001b[0m\n\u001b[0m\u001b[0;32m    183\u001b[0m         \u001b[1;32mif\u001b[0m \u001b[0mcallback\u001b[0m\u001b[1;33m:\u001b[0m\u001b[1;33m\u001b[0m\u001b[1;33m\u001b[0m\u001b[0m\n\u001b[0;32m    184\u001b[0m             \u001b[0mcallback\u001b[0m\u001b[1;33m(\u001b[0m\u001b[0mresult\u001b[0m\u001b[1;33m)\u001b[0m\u001b[1;33m\u001b[0m\u001b[1;33m\u001b[0m\u001b[0m\n",
      "\u001b[1;32m~\\Anaconda3\\lib\\site-packages\\joblib\\_parallel_backends.py\u001b[0m in \u001b[0;36m__init__\u001b[1;34m(self, batch)\u001b[0m\n\u001b[0;32m    547\u001b[0m         \u001b[1;31m# Don't delay the application, to avoid keeping the input\u001b[0m\u001b[1;33m\u001b[0m\u001b[1;33m\u001b[0m\u001b[1;33m\u001b[0m\u001b[0m\n\u001b[0;32m    548\u001b[0m         \u001b[1;31m# arguments in memory\u001b[0m\u001b[1;33m\u001b[0m\u001b[1;33m\u001b[0m\u001b[1;33m\u001b[0m\u001b[0m\n\u001b[1;32m--> 549\u001b[1;33m         \u001b[0mself\u001b[0m\u001b[1;33m.\u001b[0m\u001b[0mresults\u001b[0m \u001b[1;33m=\u001b[0m \u001b[0mbatch\u001b[0m\u001b[1;33m(\u001b[0m\u001b[1;33m)\u001b[0m\u001b[1;33m\u001b[0m\u001b[1;33m\u001b[0m\u001b[0m\n\u001b[0m\u001b[0;32m    550\u001b[0m \u001b[1;33m\u001b[0m\u001b[0m\n\u001b[0;32m    551\u001b[0m     \u001b[1;32mdef\u001b[0m \u001b[0mget\u001b[0m\u001b[1;33m(\u001b[0m\u001b[0mself\u001b[0m\u001b[1;33m)\u001b[0m\u001b[1;33m:\u001b[0m\u001b[1;33m\u001b[0m\u001b[1;33m\u001b[0m\u001b[0m\n",
      "\u001b[1;32m~\\Anaconda3\\lib\\site-packages\\joblib\\parallel.py\u001b[0m in \u001b[0;36m__call__\u001b[1;34m(self)\u001b[0m\n\u001b[0;32m    223\u001b[0m         \u001b[1;32mwith\u001b[0m \u001b[0mparallel_backend\u001b[0m\u001b[1;33m(\u001b[0m\u001b[0mself\u001b[0m\u001b[1;33m.\u001b[0m\u001b[0m_backend\u001b[0m\u001b[1;33m,\u001b[0m \u001b[0mn_jobs\u001b[0m\u001b[1;33m=\u001b[0m\u001b[0mself\u001b[0m\u001b[1;33m.\u001b[0m\u001b[0m_n_jobs\u001b[0m\u001b[1;33m)\u001b[0m\u001b[1;33m:\u001b[0m\u001b[1;33m\u001b[0m\u001b[1;33m\u001b[0m\u001b[0m\n\u001b[0;32m    224\u001b[0m             return [func(*args, **kwargs)\n\u001b[1;32m--> 225\u001b[1;33m                     for func, args, kwargs in self.items]\n\u001b[0m\u001b[0;32m    226\u001b[0m \u001b[1;33m\u001b[0m\u001b[0m\n\u001b[0;32m    227\u001b[0m     \u001b[1;32mdef\u001b[0m \u001b[0m__len__\u001b[0m\u001b[1;33m(\u001b[0m\u001b[0mself\u001b[0m\u001b[1;33m)\u001b[0m\u001b[1;33m:\u001b[0m\u001b[1;33m\u001b[0m\u001b[1;33m\u001b[0m\u001b[0m\n",
      "\u001b[1;32m~\\Anaconda3\\lib\\site-packages\\joblib\\parallel.py\u001b[0m in \u001b[0;36m<listcomp>\u001b[1;34m(.0)\u001b[0m\n\u001b[0;32m    223\u001b[0m         \u001b[1;32mwith\u001b[0m \u001b[0mparallel_backend\u001b[0m\u001b[1;33m(\u001b[0m\u001b[0mself\u001b[0m\u001b[1;33m.\u001b[0m\u001b[0m_backend\u001b[0m\u001b[1;33m,\u001b[0m \u001b[0mn_jobs\u001b[0m\u001b[1;33m=\u001b[0m\u001b[0mself\u001b[0m\u001b[1;33m.\u001b[0m\u001b[0m_n_jobs\u001b[0m\u001b[1;33m)\u001b[0m\u001b[1;33m:\u001b[0m\u001b[1;33m\u001b[0m\u001b[1;33m\u001b[0m\u001b[0m\n\u001b[0;32m    224\u001b[0m             return [func(*args, **kwargs)\n\u001b[1;32m--> 225\u001b[1;33m                     for func, args, kwargs in self.items]\n\u001b[0m\u001b[0;32m    226\u001b[0m \u001b[1;33m\u001b[0m\u001b[0m\n\u001b[0;32m    227\u001b[0m     \u001b[1;32mdef\u001b[0m \u001b[0m__len__\u001b[0m\u001b[1;33m(\u001b[0m\u001b[0mself\u001b[0m\u001b[1;33m)\u001b[0m\u001b[1;33m:\u001b[0m\u001b[1;33m\u001b[0m\u001b[1;33m\u001b[0m\u001b[0m\n",
      "\u001b[1;32m~\\Anaconda3\\lib\\site-packages\\sklearn\\ensemble\\_forest.py\u001b[0m in \u001b[0;36m_accumulate_prediction\u001b[1;34m(predict, X, out, lock)\u001b[0m\n\u001b[0;32m    447\u001b[0m     \u001b[0mcomplains\u001b[0m \u001b[0mthat\u001b[0m \u001b[0mit\u001b[0m \u001b[0mcannot\u001b[0m \u001b[0mpickle\u001b[0m \u001b[0mit\u001b[0m \u001b[0mwhen\u001b[0m \u001b[0mplaced\u001b[0m \u001b[0mthere\u001b[0m\u001b[1;33m.\u001b[0m\u001b[1;33m\u001b[0m\u001b[1;33m\u001b[0m\u001b[0m\n\u001b[0;32m    448\u001b[0m     \"\"\"\n\u001b[1;32m--> 449\u001b[1;33m     \u001b[0mprediction\u001b[0m \u001b[1;33m=\u001b[0m \u001b[0mpredict\u001b[0m\u001b[1;33m(\u001b[0m\u001b[0mX\u001b[0m\u001b[1;33m,\u001b[0m \u001b[0mcheck_input\u001b[0m\u001b[1;33m=\u001b[0m\u001b[1;32mFalse\u001b[0m\u001b[1;33m)\u001b[0m\u001b[1;33m\u001b[0m\u001b[1;33m\u001b[0m\u001b[0m\n\u001b[0m\u001b[0;32m    450\u001b[0m     \u001b[1;32mwith\u001b[0m \u001b[0mlock\u001b[0m\u001b[1;33m:\u001b[0m\u001b[1;33m\u001b[0m\u001b[1;33m\u001b[0m\u001b[0m\n\u001b[0;32m    451\u001b[0m         \u001b[1;32mif\u001b[0m \u001b[0mlen\u001b[0m\u001b[1;33m(\u001b[0m\u001b[0mout\u001b[0m\u001b[1;33m)\u001b[0m \u001b[1;33m==\u001b[0m \u001b[1;36m1\u001b[0m\u001b[1;33m:\u001b[0m\u001b[1;33m\u001b[0m\u001b[1;33m\u001b[0m\u001b[0m\n",
      "\u001b[1;32m~\\Anaconda3\\lib\\site-packages\\sklearn\\tree\\_classes.py\u001b[0m in \u001b[0;36mpredict_proba\u001b[1;34m(self, X, check_input)\u001b[0m\n\u001b[0;32m    904\u001b[0m         \u001b[0mcheck_is_fitted\u001b[0m\u001b[1;33m(\u001b[0m\u001b[0mself\u001b[0m\u001b[1;33m)\u001b[0m\u001b[1;33m\u001b[0m\u001b[1;33m\u001b[0m\u001b[0m\n\u001b[0;32m    905\u001b[0m         \u001b[0mX\u001b[0m \u001b[1;33m=\u001b[0m \u001b[0mself\u001b[0m\u001b[1;33m.\u001b[0m\u001b[0m_validate_X_predict\u001b[0m\u001b[1;33m(\u001b[0m\u001b[0mX\u001b[0m\u001b[1;33m,\u001b[0m \u001b[0mcheck_input\u001b[0m\u001b[1;33m)\u001b[0m\u001b[1;33m\u001b[0m\u001b[1;33m\u001b[0m\u001b[0m\n\u001b[1;32m--> 906\u001b[1;33m         \u001b[0mproba\u001b[0m \u001b[1;33m=\u001b[0m \u001b[0mself\u001b[0m\u001b[1;33m.\u001b[0m\u001b[0mtree_\u001b[0m\u001b[1;33m.\u001b[0m\u001b[0mpredict\u001b[0m\u001b[1;33m(\u001b[0m\u001b[0mX\u001b[0m\u001b[1;33m)\u001b[0m\u001b[1;33m\u001b[0m\u001b[1;33m\u001b[0m\u001b[0m\n\u001b[0m\u001b[0;32m    907\u001b[0m \u001b[1;33m\u001b[0m\u001b[0m\n\u001b[0;32m    908\u001b[0m         \u001b[1;32mif\u001b[0m \u001b[0mself\u001b[0m\u001b[1;33m.\u001b[0m\u001b[0mn_outputs_\u001b[0m \u001b[1;33m==\u001b[0m \u001b[1;36m1\u001b[0m\u001b[1;33m:\u001b[0m\u001b[1;33m\u001b[0m\u001b[1;33m\u001b[0m\u001b[0m\n",
      "\u001b[1;31mKeyboardInterrupt\u001b[0m: "
     ]
    }
   ],
   "source": [
    "accuracy_rf = []\n",
    "f1_score_rf = []\n",
    "roc_rf = []\n",
    "\n",
    "# compute how many 1 in each model\n",
    "sum_train=[]\n",
    "sum_test=[]\n",
    "\n",
    "X_train_rf = X_train.copy()\n",
    "X_test_rf = X_test.copy()\n",
    "\n",
    "for num_models in tag_index_new: \n",
    "    # create train and test\n",
    "    y_train = []\n",
    "    y_test = []\n",
    "    for i  in range(len(df_train_1)):\n",
    "        y_train.append(int(df_train_1['Vec_Tags'].iloc[i].split(']')[0].split('[')[1].split(',')[num_models].rstrip(' ').lstrip(' ')))\n",
    "    for j  in range(len(df_test_1)):\n",
    "        y_test.append(int(df_test_1['Vec_Tags'].iloc[j].split(']')[0].split('[')[1].split(',')[num_models].rstrip(' ').lstrip(' ')))\n",
    "    \n",
    "    sum_train.append(sum(y_train))\n",
    "    sum_test.append(sum(y_test))\n",
    "    \n",
    "    # Random Forest\n",
    "    rf = RandomForestClassifier(max_depth=5,class_weight='balanced').fit(X_train_rf, y_train)\n",
    "    y_pred_rf_test = rf.predict(X_test_rf)\n",
    "    y_pred_rf_train = rf.predict(X_train_rf)\n",
    "    y_score_rf = rf.predict_proba(X_test_rf)[:,1]\n",
    "    acc_rf = accuracy_score(y_test, y_pred_rf_test)\n",
    "    f1_score_rf_result = metrics.f1_score(y_test, y_pred_rf_test)\n",
    "    roc_rf_result = metrics.roc_auc_score(y_test, y_score_rf)\n",
    "    accuracy_rf.append(acc_rf)\n",
    "    f1_score_rf.append(f1_score_rf_result)\n",
    "    roc_rf.append(roc_rf_result)\n",
    "    \n",
    "    # create new column: the predict result for the next model\n",
    "    X_train_rf['predict_'+str(num_models)] = y_pred_rf_train\n",
    "    X_test_rf['predict_'+str(num_models)] = y_pred_rf_test"
   ]
  },
  {
   "cell_type": "code",
   "execution_count": null,
   "metadata": {},
   "outputs": [],
   "source": [
    "data_tuples = list(zip(accuracy_rf,f1_score_rf,roc_rf,sum_train,sum_test))\n",
    "result_rf = pd.DataFrame(data_tuples,columns=['accuracy','f1_score','roc','sum_train','sum_test'])\n",
    "result_rf['sum_train'] = result_rf['sum_train']/len(y_train)\n",
    "result_rf['sum_test'] = result_rf['sum_test']/len(y_test)\n",
    "result_rf"
   ]
  },
  {
   "cell_type": "code",
   "execution_count": null,
   "metadata": {},
   "outputs": [],
   "source": [
    "result_rf.f1_score.mean()"
   ]
  },
  {
   "cell_type": "markdown",
   "metadata": {},
   "source": [
    "# Calculate accuracy score for each article"
   ]
  },
  {
   "cell_type": "code",
   "execution_count": 18,
   "metadata": {},
   "outputs": [],
   "source": [
    "# Calculate accuracy score for each article\n",
    "def accuracy_by_article(df):\n",
    "    result_predict = df.iloc[:,-177:]\n",
    "    wrong_result_predict=[]\n",
    "    for i in range(len(result_predict)):\n",
    "        difference_article=[]\n",
    "        for index,element in enumerate(tag_index_new):\n",
    "            # check whether predicted value is equal to the true value\n",
    "            difference_article.append(abs(result_predict.iloc[i][index] - int(df_test_1['Vec_Tags'].iloc[i].split(']')[0].split('[')[1].split(',')[element].rstrip(' ').lstrip(' '))))\n",
    "        wrong_result_predict.append(sum(difference_article))   \n",
    "    \n",
    "    # Create the dataframe of number of tags that are predicted wrongly and the tag_count for each article\n",
    "    data_tuples = list(zip(wrong_result_predict,df_test_1['Tag_Count']))\n",
    "    accuracy_article= pd.DataFrame(data_tuples,columns=['Num_tag_predict_wrong','Tag_Count'])\n",
    "    \n",
    "    # Add the accuracy column to calculate the accuracy score for each article\n",
    "    accuracy_article['accuracy_article'] = ''\n",
    "    for i in range(len(accuracy_article)):\n",
    "        if accuracy_article['Num_tag_predict_wrong'].iloc[i]==0:\n",
    "            accuracy_article['accuracy_article'].iloc[i]=1\n",
    "        else:\n",
    "            accuracy_article['accuracy_article'].iloc[i] = 1.0-(accuracy_article['Num_tag_predict_wrong'].iloc[i]/len(tag_index_new))\n",
    "\n",
    "    return accuracy_article"
   ]
  },
  {
   "cell_type": "code",
   "execution_count": 19,
   "metadata": {},
   "outputs": [],
   "source": [
    "a=accuracy_by_article(X_test_lg)"
   ]
  },
  {
   "cell_type": "code",
   "execution_count": 112,
   "metadata": {},
   "outputs": [],
   "source": [
    "a.to_csv('Article accuracy_lg.csv')"
   ]
  },
  {
   "cell_type": "code",
   "execution_count": 26,
   "metadata": {},
   "outputs": [
    {
     "data": {
      "image/png": "[encoded data removed]",
      "text/plain": [
       "<Figure size 432x288 with 1 Axes>"
      ]
     },
     "metadata": {
      "needs_background": "light"
     },
     "output_type": "display_data"
    }
   ],
   "source": [
    "a.accuracy_article.value_counts().plot(kind='bar')\n",
    "plt.title(' Accuracy Score Distribution ')\n",
    "#plt.xlim(0,9)\n",
    "#plt.legend()\n",
    "plt.show()"
   ]
  },
  {
   "cell_type": "code",
   "execution_count": null,
   "metadata": {},
   "outputs": [],
   "source": []
  }
 ],
 "metadata": {
  "kernelspec": {
   "display_name": "Python 3",
   "language": "python",
   "name": "python3"
  },
  "language_info": {
   "codemirror_mode": {
    "name": "ipython",
    "version": 3
   },
   "file_extension": ".py",
   "mimetype": "text/x-python",
   "name": "python",
   "nbconvert_exporter": "python",
   "pygments_lexer": "ipython3",
   "version": "3.7.4"
  }
 },
 "nbformat": 4,
 "nbformat_minor": 2
}
